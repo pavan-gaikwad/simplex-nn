{
 "cells": [
  {
   "cell_type": "code",
   "execution_count": 380,
   "metadata": {},
   "outputs": [],
   "source": [
    "import csv\n",
    "import pandas as pd\n",
    "\n",
    "# load the names from dataset/indianames.csv\n",
    "names = []\n",
    "with open('dataset/indianames.csv', 'r') as f:\n",
    "    names = f.readlines()\n",
    "names = [name.strip() for name in names]\n",
    "names.sort()"
   ]
  },
  {
   "cell_type": "code",
   "execution_count": 381,
   "metadata": {},
   "outputs": [
    {
     "data": {
      "text/plain": [
       "['aabid',\n",
       " 'aabida',\n",
       " 'aachal',\n",
       " 'aadesh',\n",
       " 'aadil',\n",
       " 'aadish',\n",
       " 'aaditya',\n",
       " 'aaenab',\n",
       " 'aafreen',\n",
       " 'aafrin']"
      ]
     },
     "execution_count": 381,
     "metadata": {},
     "output_type": "execute_result"
    }
   ],
   "source": [
    "names[:10]"
   ]
  },
  {
   "cell_type": "code",
   "execution_count": 382,
   "metadata": {},
   "outputs": [
    {
     "data": {
      "text/plain": [
       "6518"
      ]
     },
     "execution_count": 382,
     "metadata": {},
     "output_type": "execute_result"
    }
   ],
   "source": [
    "len(names)"
   ]
  },
  {
   "cell_type": "code",
   "execution_count": 383,
   "metadata": {},
   "outputs": [
    {
     "data": {
      "text/plain": [
       "4"
      ]
     },
     "execution_count": 383,
     "metadata": {},
     "output_type": "execute_result"
    }
   ],
   "source": [
    "min(len(name) for name in names)"
   ]
  },
  {
   "cell_type": "code",
   "execution_count": 384,
   "metadata": {},
   "outputs": [
    {
     "data": {
      "text/plain": [
       "21"
      ]
     },
     "execution_count": 384,
     "metadata": {},
     "output_type": "execute_result"
    }
   ],
   "source": [
    "max(len(name) for name in names)"
   ]
  },
  {
   "cell_type": "code",
   "execution_count": 385,
   "metadata": {},
   "outputs": [],
   "source": [
    "import torch\n",
    "name_arr = torch.zeros(27, 27, dtype=torch.float32)\n",
    "stoi = {c: i for i, c in enumerate('.abcdefghijklmnopqrstuvwxyz')}\n",
    "\n",
    "# create bigrams from the names\n",
    "\n",
    "for name in names:\n",
    "    name = '.' + name + '.'\n",
    "    for c1, c2 in zip(name, name[1:]):\n",
    "        \n",
    "        name_arr[stoi[c1], stoi[c2]] += 1\n"
   ]
  },
  {
   "cell_type": "code",
   "execution_count": 386,
   "metadata": {},
   "outputs": [
    {
     "data": {
      "text/plain": [
       "tensor([0.0000, 0.0898, 0.0612, 0.0215, 0.0450, 0.0029, 0.0161, 0.0345, 0.0298,\n",
       "        0.0152, 0.0443, 0.0595, 0.0183, 0.0864, 0.0554, 0.0038, 0.0591, 0.0000,\n",
       "        0.0845, 0.1939, 0.0270, 0.0084, 0.0281, 0.0026, 0.0000, 0.0089, 0.0038])"
      ]
     },
     "execution_count": 386,
     "metadata": {},
     "output_type": "execute_result"
    }
   ],
   "source": [
    "count_sum_arr = name_arr.sum(dim=1, keepdim=True)\n",
    "prob_arr = name_arr / count_sum_arr\n",
    "# prob_arr = torch.ones(27, 27, dtype=torch.float32) / 27\n",
    "\n",
    "name_arr[0, :]\n",
    "prob_arr[0, :]"
   ]
  },
  {
   "cell_type": "code",
   "execution_count": 389,
   "metadata": {},
   "outputs": [
    {
     "name": "stdout",
     "output_type": "stream",
     "text": [
      ".timir.\n"
     ]
    }
   ],
   "source": [
    "itos = {i: c for c, i in stoi.items()}\n",
    "start_char = '.'\n",
    "name = start_char\n",
    "for i in range(100):\n",
    "    next_char = itos[torch.multinomial(prob_arr[stoi[start_char], :], num_samples=1, replacement=True).item()]    \n",
    "    name += next_char\n",
    "    if next_char == '.':\n",
    "        print(name)\n",
    "        name = ''\n",
    "        break\n",
    "    else:\n",
    "        start_char = next_char\n"
   ]
  },
  {
   "cell_type": "code",
   "execution_count": null,
   "metadata": {},
   "outputs": [],
   "source": []
  },
  {
   "cell_type": "code",
   "execution_count": null,
   "metadata": {},
   "outputs": [],
   "source": []
  }
 ],
 "metadata": {
  "kernelspec": {
   "display_name": "Python 3",
   "language": "python",
   "name": "python3"
  },
  "language_info": {
   "codemirror_mode": {
    "name": "ipython",
    "version": 3
   },
   "file_extension": ".py",
   "mimetype": "text/x-python",
   "name": "python",
   "nbconvert_exporter": "python",
   "pygments_lexer": "ipython3",
   "version": "3.10.11"
  },
  "orig_nbformat": 4
 },
 "nbformat": 4,
 "nbformat_minor": 2
}
