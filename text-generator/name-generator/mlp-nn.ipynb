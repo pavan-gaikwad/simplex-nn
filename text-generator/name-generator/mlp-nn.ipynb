{
 "cells": [
  {
   "cell_type": "code",
   "execution_count": 2,
   "metadata": {},
   "outputs": [],
   "source": [
    "import csv\n",
    "import pandas as pd\n",
    "import torch\n",
    "import torch.nn.functional as F\n",
    "\n",
    "# load the names from dataset/indianames.csv\n",
    "names = []\n",
    "with open('dataset/indianames.csv', 'r') as f:\n",
    "    names = f.readlines()\n",
    "names = [name.strip() for name in names]\n",
    "names.sort()\n",
    "\n",
    "xs = []\n",
    "ys = []\n",
    "stoi = {c: i for i, c in enumerate('.abcdefghijklmnopqrstuvwxyz')}\n",
    "itos = {i: c for c, i in stoi.items()}\n",
    "block_size = 3\n",
    "\n",
    "for name in names:\n",
    "    chars = list(f\"...{name}.\")\n",
    "    for i in range(len(chars) - block_size):\n",
    "        \n",
    "        xs.append([stoi[c] for c in chars[i:i+block_size]])\n",
    "        ys.append(stoi[chars[i+block_size]])\n",
    "    \n",
    "\n",
    "\n"
   ]
  },
  {
   "cell_type": "code",
   "execution_count": 73,
   "metadata": {},
   "outputs": [],
   "source": [
    "X = torch.tensor(xs)\n",
    "Y = torch.tensor(ys)\n",
    "\n",
    "# lookup table C for embedding\n",
    "emb_dim = 2\n",
    "C = torch.randn(27, emb_dim, dtype=torch.float)\n",
    "\n",
    "W1 = torch.randn((emb_dim * block_size,300))\n",
    "b1 = torch.randn(300)\n",
    "\n",
    "W2 = torch.randn((300, 27))\n",
    "b2 = torch.randn(27)\n",
    "\n",
    "\n",
    "parameters = [C, W1, b1, W2, b2]\n",
    "\n",
    "x_enc = F.one_hot(X, num_classes=len(stoi)).float()\n",
    "\n",
    "# enable gradient calculation\n",
    "for p in parameters:\n",
    "    p.requires_grad = True"
   ]
  },
  {
   "cell_type": "code",
   "execution_count": 77,
   "metadata": {},
   "outputs": [
    {
     "name": "stdout",
     "output_type": "stream",
     "text": [
      "1.8243987560272217\n"
     ]
    }
   ],
   "source": [
    "lr = 0.003\n",
    "for _ in range(100000):\n",
    "\n",
    "    # mini batch\n",
    "    ix = torch.randint(0, X.shape[0], (256,))\n",
    "\n",
    "    # forward pass\n",
    "    emb = C[X[ix]]\n",
    "    h = torch.tanh(emb.view(-1, block_size*2) @ W1 + b1)\n",
    "    logits = h @ W2 + b2\n",
    "    # negative log likelihood loss - self implementation\n",
    "    # counts = logits.exp()\n",
    "    # probs = counts / counts.sum(dim=1, keepdim=True)\n",
    "    # loss = -probs[torch.arange(48775), Y].log().mean()\n",
    "    loss = F.cross_entropy(logits, Y[ix])\n",
    "    # cross entropy function makes forward and backward pass more efficient\n",
    "\n",
    "    # backward pass\n",
    "    for p in parameters:\n",
    "        p.grad = None\n",
    "    loss.backward()\n",
    "\n",
    "    # update weights\n",
    "    for p in parameters:\n",
    "        p.data += -lr * p.grad\n",
    "    \n",
    "print(loss.item())\n"
   ]
  },
  {
   "cell_type": "code",
   "execution_count": 78,
   "metadata": {},
   "outputs": [
    {
     "name": "stdout",
     "output_type": "stream",
     "text": [
      "krip.\n",
      "kak.\n",
      "guran.\n",
      "preen.\n",
      "chrilu.\n",
      "yush.\n",
      "nijami.\n",
      "chun.\n",
      "ladabubeda.\n",
      "masmal.\n",
      "parsda.\n",
      "vilna.\n",
      "istaruj.\n",
      "karsh.\n",
      "gamu.\n",
      "dhal.\n",
      "josibul.\n",
      "jiy.\n",
      "dur.\n",
      "chote.\n"
     ]
    }
   ],
   "source": [
    "\n",
    "for _ in range(20):\n",
    "    out = []\n",
    "    context = [0] * block_size\n",
    "    while True:\n",
    "        emb = C[torch.tensor([context])]\n",
    "        h = torch.tanh(emb.view(1, -1) @ W1 + b1)\n",
    "        logits = h @ W2 + b2\n",
    "        probs = F.softmax(logits, dim=1)\n",
    "        ix = torch.multinomial(probs, num_samples=1)\n",
    "        context = context[1:] + [ix.item()]\n",
    "        out.append(ix.item())\n",
    "        if ix == 0:\n",
    "            break\n",
    "    print(''.join(itos[i] for i in out))"
   ]
  },
  {
   "cell_type": "code",
   "execution_count": null,
   "metadata": {},
   "outputs": [],
   "source": []
  }
 ],
 "metadata": {
  "kernelspec": {
   "display_name": "Python 3",
   "language": "python",
   "name": "python3"
  },
  "language_info": {
   "codemirror_mode": {
    "name": "ipython",
    "version": 3
   },
   "file_extension": ".py",
   "mimetype": "text/x-python",
   "name": "python",
   "nbconvert_exporter": "python",
   "pygments_lexer": "ipython3",
   "version": "3.11.4"
  },
  "orig_nbformat": 4
 },
 "nbformat": 4,
 "nbformat_minor": 2
}
