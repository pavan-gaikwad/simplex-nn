{
 "cells": [
  {
   "cell_type": "code",
   "execution_count": 2,
   "metadata": {},
   "outputs": [],
   "source": [
    "# load the data from a csv file\n",
    "import csv\n",
    "import pandas as pd\n",
    "\n",
    "# load the data from a csv file\n",
    "data1 = pd.read_csv('dataset/Indian_Names.csv', encoding='utf-8')\n",
    "\n",
    "#convert the data into a list\n",
    "names = data1['Name'].tolist()\n",
    "\n",
    "# load second dataset\n",
    "data2 = pd.read_csv('dataset/Indian-Male-Names.csv', encoding='utf-8')\n",
    "names2 = data2['name'].tolist()\n",
    "\n",
    "names2 = list(set(names2))\n",
    "\n",
    "# load third dataset\n",
    "data3 = pd.read_csv('dataset/Indian-Female-Names.csv', encoding='utf-8')\n",
    "\n",
    "names3 = data3['name'].tolist()\n",
    "names3 = list(set(names3))\n",
    "\n",
    "# append all the names\n",
    "names = names + names2 + names3\n",
    "\n",
    "\n",
    "# keep only the first name\n",
    "names = [str(name).split()[0] for name in names]\n",
    "\n",
    "# keep only unique names\n",
    "names = [name for name in names if str(name) != 'nan']\n",
    "names = list(set(names))\n",
    "# clean up data. replace 0 by O\n",
    "names = [name.replace('0', 'o') for name in names]\n",
    "# regex to replace non-letter and non-space characters by nothing\n",
    "import re\n",
    "names = [re.sub(r'[^a-zA-Z ]', '', name) for name in names]\n",
    "\n",
    "\n",
    "\n",
    "\n",
    "names = list(set(names))\n",
    "\n",
    "# save the list into a text file\n",
    "with open('dataset/indianames.csv', 'w') as f:\n",
    "    for name in names:\n",
    "        if len(name) > 3:\n",
    "            f.write(str(name.lower()) + '\\n')\n"
   ]
  }
 ],
 "metadata": {
  "kernelspec": {
   "display_name": "Python 3",
   "language": "python",
   "name": "python3"
  },
  "language_info": {
   "codemirror_mode": {
    "name": "ipython",
    "version": 3
   },
   "file_extension": ".py",
   "mimetype": "text/x-python",
   "name": "python",
   "nbconvert_exporter": "python",
   "pygments_lexer": "ipython3",
   "version": "3.10.11"
  },
  "orig_nbformat": 4
 },
 "nbformat": 4,
 "nbformat_minor": 2
}
