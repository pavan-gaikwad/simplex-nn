{
 "cells": [
  {
   "cell_type": "code",
   "execution_count": 1,
   "metadata": {},
   "outputs": [
    {
     "name": "stdout",
     "output_type": "stream",
     "text": [
      "Output at the end of the iteration : 0.190044\n",
      "Output at the end of the iteration : -0.950556\n",
      "Output at the end of the iteration : 0.190034\n",
      "Output at the end of the iteration : 0.109994\n",
      "Infrence output is: 0.109912\n"
     ]
    }
   ],
   "source": [
    "import simplex_nn.simplenn as nn\n",
    "\n",
    "learning_rate = 0.0001\n",
    "iterations = 10000\n",
    "x = [[0.2, 0.4, 0.6], [0.3, 0.5, 0.7], [0.4, 0.8, 0.2], [0.11, 0.13, 0.9]]\n",
    "y = [0.2, 0.1, 0.2, 0.1]\n",
    "model = nn.train(x, y, learning_rate, iterations)\n",
    "input = [[0.2, 0.8, 0.4]]\n",
    "nn.infer(model, input)"
   ]
  }
 ],
 "metadata": {
  "kernelspec": {
   "display_name": "listofai",
   "language": "python",
   "name": "python3"
  },
  "language_info": {
   "codemirror_mode": {
    "name": "ipython",
    "version": 3
   },
   "file_extension": ".py",
   "mimetype": "text/x-python",
   "name": "python",
   "nbconvert_exporter": "python",
   "pygments_lexer": "ipython3",
   "version": "3.10.10"
  },
  "orig_nbformat": 4
 },
 "nbformat": 4,
 "nbformat_minor": 2
}
